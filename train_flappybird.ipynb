{
 "cells": [
  {
   "cell_type": "code",
   "execution_count": 2,
   "id": "79ed5583",
   "metadata": {},
   "outputs": [
    {
     "name": "stdout",
     "output_type": "stream",
     "text": [
      "The autoreload extension is already loaded. To reload it, use:\n",
      "  %reload_ext autoreload\n",
      "pygame 2.6.1 (SDL 2.28.4, Python 3.12.6)\n",
      "Hello from the pygame community. https://www.pygame.org/contribute.html\n"
     ]
    },
    {
     "name": "stderr",
     "output_type": "stream",
     "text": [
      "d:\\2025\\ML\\flappybird_ai\\venv\\Lib\\site-packages\\pygame\\pkgdata.py:25: UserWarning: pkg_resources is deprecated as an API. See https://setuptools.pypa.io/en/latest/pkg_resources.html. The pkg_resources package is slated for removal as early as 2025-11-30. Refrain from using this package or pin to Setuptools<81.\n",
      "  from pkg_resources import resource_stream, resource_exists\n"
     ]
    }
   ],
   "source": [
    "%load_ext autoreload\n",
    "%autoreload 2\n",
    "\n",
    "import os\n",
    "import time\n",
    "import numpy as np\n",
    "import torch\n",
    "from tqdm import trange\n",
    "\n",
    "from game.flappy_bird import FlappyBirdEnv\n",
    "from agent.dqn_agent import DQNAgent, DQNConfig"
   ]
  },
  {
   "cell_type": "code",
   "execution_count": null,
   "id": "a7a3d57a",
   "metadata": {},
   "outputs": [
    {
     "name": "stdout",
     "output_type": "stream",
     "text": [
      "Using device: cpu\n"
     ]
    }
   ],
   "source": [
    "\n",
    "env = FlappyBirdEnv(seed=42)\n",
    "state_dim = 5\n",
    "action_dim = 2\n",
    "\n",
    "cfg = DQNConfig(\n",
    "\tstate_dim=state_dim,\n",
    "\taction_dim=action_dim,\n",
    "\tgamma=0.99,\n",
    "\tlr=1e-3,\n",
    "\tbatch_size=64,\n",
    "\treplay_size=50_000,\n",
    "\tstart_learning_after=5_000,\n",
    "\ttarget_update_freq=1_000,\n",
    "\teps_start=1.0,\n",
    "\teps_end=0.05,\n",
    "\teps_decay_steps=50_000,\n",
    "\tgradient_clip_norm=5.0,\n",
    ")\n",
    "\n",
    "agent = DQNAgent(cfg)\n",
    "print(\"Using device:\", agent.cfg.device)"
   ]
  },
  {
   "cell_type": "code",
   "execution_count": 4,
   "id": "6451b62c",
   "metadata": {},
   "outputs": [
    {
     "name": "stderr",
     "output_type": "stream",
     "text": [
      "Training:  15%|█▍        | 73/500 [00:00<00:00, 728.84it/s]"
     ]
    },
    {
     "name": "stdout",
     "output_type": "stream",
     "text": [
      "Ep 10/500 | Return: -67.0 | 50-ep avg: -63.8 | Eps: 0.993\n",
      "Ep 20/500 | Return: -66.0 | 50-ep avg: -64.1 | Eps: 0.986\n",
      "Ep 30/500 | Return: -67.0 | 50-ep avg: -64.5 | Eps: 0.979\n",
      "Ep 40/500 | Return: -66.0 | 50-ep avg: -64.7 | Eps: 0.972\n",
      "Ep 50/500 | Return: -61.0 | 50-ep avg: -64.4 | Eps: 0.965\n",
      "Ep 60/500 | Return: -66.0 | 50-ep avg: -64.6 | Eps: 0.958\n",
      "Ep 70/500 | Return: -66.0 | 50-ep avg: -64.7 | Eps: 0.951\n",
      "Ep 80/500 | Return: -62.0 | 50-ep avg: -64.4 | Eps: 0.944\n",
      "Ep 90/500 | Return: -59.0 | 50-ep avg: -64.1 | Eps: 0.937\n",
      "Ep 100/500 | Return: -64.0 | 50-ep avg: -64.3 | Eps: 0.930\n",
      "Ep 110/500 | Return: -62.0 | 50-ep avg: -64.1 | Eps: 0.923\n",
      "Ep 120/500 | Return: -66.0 | 50-ep avg: -63.7 | Eps: 0.916\n",
      "Ep 130/500 | Return: -62.0 | 50-ep avg: -63.8 | Eps: 0.909\n",
      "Ep 140/500 | Return: -65.0 | 50-ep avg: -64.0 | Eps: 0.902\n"
     ]
    },
    {
     "name": "stderr",
     "output_type": "stream",
     "text": [
      "Training:  29%|██▉       | 146/500 [00:01<00:04, 84.26it/s]"
     ]
    },
    {
     "name": "stdout",
     "output_type": "stream",
     "text": [
      "Ep 150/500 | Return: -64.0 | 50-ep avg: -64.1 | Eps: 0.895\n",
      "Ep 160/500 | Return: -65.0 | 50-ep avg: -64.0 | Eps: 0.888\n",
      "Ep 170/500 | Return: -65.0 | 50-ep avg: -64.3 | Eps: 0.881\n"
     ]
    },
    {
     "name": "stderr",
     "output_type": "stream",
     "text": [
      "Training:  36%|███▌      | 180/500 [00:05<00:13, 24.01it/s]"
     ]
    },
    {
     "name": "stdout",
     "output_type": "stream",
     "text": [
      "Ep 180/500 | Return: -65.0 | 50-ep avg: -64.4 | Eps: 0.874\n",
      "Ep 190/500 | Return: -64.0 | 50-ep avg: -64.6 | Eps: 0.868\n"
     ]
    },
    {
     "name": "stderr",
     "output_type": "stream",
     "text": [
      "Training:  40%|███▉      | 199/500 [00:07<00:16, 17.98it/s]"
     ]
    },
    {
     "name": "stdout",
     "output_type": "stream",
     "text": [
      "Ep 200/500 | Return: -66.0 | 50-ep avg: -64.7 | Eps: 0.861\n"
     ]
    },
    {
     "name": "stderr",
     "output_type": "stream",
     "text": [
      "Training:  42%|████▏     | 211/500 [00:09<00:18, 15.78it/s]"
     ]
    },
    {
     "name": "stdout",
     "output_type": "stream",
     "text": [
      "Ep 210/500 | Return: -66.0 | 50-ep avg: -65.1 | Eps: 0.854\n"
     ]
    },
    {
     "name": "stderr",
     "output_type": "stream",
     "text": [
      "Training:  44%|████▍     | 219/500 [00:10<00:19, 14.15it/s]"
     ]
    },
    {
     "name": "stdout",
     "output_type": "stream",
     "text": [
      "Ep 220/500 | Return: -64.0 | 50-ep avg: -65.1 | Eps: 0.847\n"
     ]
    },
    {
     "name": "stderr",
     "output_type": "stream",
     "text": [
      "Training:  46%|████▋     | 232/500 [00:11<00:22, 12.04it/s]"
     ]
    },
    {
     "name": "stdout",
     "output_type": "stream",
     "text": [
      "Ep 230/500 | Return: -59.0 | 50-ep avg: -64.9 | Eps: 0.840\n"
     ]
    },
    {
     "name": "stderr",
     "output_type": "stream",
     "text": [
      "Training:  48%|████▊     | 241/500 [00:13<00:40,  6.43it/s]"
     ]
    },
    {
     "name": "stdout",
     "output_type": "stream",
     "text": [
      "Ep 240/500 | Return: -62.0 | 50-ep avg: -64.8 | Eps: 0.833\n"
     ]
    },
    {
     "name": "stderr",
     "output_type": "stream",
     "text": [
      "Training:  50%|█████     | 250/500 [00:15<00:39,  6.28it/s]"
     ]
    },
    {
     "name": "stdout",
     "output_type": "stream",
     "text": [
      "Ep 250/500 | Return: -64.0 | 50-ep avg: -64.8 | Eps: 0.826\n"
     ]
    },
    {
     "name": "stderr",
     "output_type": "stream",
     "text": [
      "Training:  52%|█████▏    | 261/500 [00:17<00:32,  7.32it/s]"
     ]
    },
    {
     "name": "stdout",
     "output_type": "stream",
     "text": [
      "Ep 260/500 | Return: -57.0 | 50-ep avg: -64.3 | Eps: 0.819\n"
     ]
    },
    {
     "name": "stderr",
     "output_type": "stream",
     "text": [
      "Training:  54%|█████▍    | 270/500 [00:20<01:16,  3.00it/s]"
     ]
    },
    {
     "name": "stdout",
     "output_type": "stream",
     "text": [
      "Ep 270/500 | Return: -65.0 | 50-ep avg: -63.9 | Eps: 0.812\n"
     ]
    },
    {
     "name": "stderr",
     "output_type": "stream",
     "text": [
      "Training:  56%|█████▌    | 280/500 [00:23<01:19,  2.76it/s]"
     ]
    },
    {
     "name": "stdout",
     "output_type": "stream",
     "text": [
      "Ep 280/500 | Return: -63.0 | 50-ep avg: -63.3 | Eps: 0.804\n"
     ]
    },
    {
     "name": "stderr",
     "output_type": "stream",
     "text": [
      "Training:  58%|█████▊    | 290/500 [00:27<01:08,  3.09it/s]"
     ]
    },
    {
     "name": "stdout",
     "output_type": "stream",
     "text": [
      "Ep 290/500 | Return: -66.0 | 50-ep avg: -63.1 | Eps: 0.797\n"
     ]
    },
    {
     "name": "stderr",
     "output_type": "stream",
     "text": [
      "Training:  60%|██████    | 300/500 [00:30<01:10,  2.82it/s]"
     ]
    },
    {
     "name": "stdout",
     "output_type": "stream",
     "text": [
      "Ep 300/500 | Return: -61.0 | 50-ep avg: -62.6 | Eps: 0.790\n"
     ]
    },
    {
     "name": "stderr",
     "output_type": "stream",
     "text": [
      "Training:  62%|██████▏   | 310/500 [00:34<01:11,  2.66it/s]"
     ]
    },
    {
     "name": "stdout",
     "output_type": "stream",
     "text": [
      "Ep 310/500 | Return: -64.0 | 50-ep avg: -62.5 | Eps: 0.783\n"
     ]
    },
    {
     "name": "stderr",
     "output_type": "stream",
     "text": [
      "Training:  64%|██████▍   | 320/500 [00:38<01:05,  2.75it/s]"
     ]
    },
    {
     "name": "stdout",
     "output_type": "stream",
     "text": [
      "Ep 320/500 | Return: -66.0 | 50-ep avg: -62.5 | Eps: 0.775\n"
     ]
    },
    {
     "name": "stderr",
     "output_type": "stream",
     "text": [
      "Training:  66%|██████▌   | 330/500 [00:41<01:03,  2.67it/s]"
     ]
    },
    {
     "name": "stdout",
     "output_type": "stream",
     "text": [
      "Ep 330/500 | Return: -66.0 | 50-ep avg: -63.2 | Eps: 0.768\n"
     ]
    },
    {
     "name": "stderr",
     "output_type": "stream",
     "text": [
      "Training:  68%|██████▊   | 340/500 [00:45<00:58,  2.76it/s]"
     ]
    },
    {
     "name": "stdout",
     "output_type": "stream",
     "text": [
      "Ep 340/500 | Return: -64.0 | 50-ep avg: -63.2 | Eps: 0.761\n"
     ]
    },
    {
     "name": "stderr",
     "output_type": "stream",
     "text": [
      "Training:  70%|███████   | 351/500 [00:47<00:22,  6.63it/s]"
     ]
    },
    {
     "name": "stdout",
     "output_type": "stream",
     "text": [
      "Ep 350/500 | Return: -60.0 | 50-ep avg: -63.7 | Eps: 0.754\n"
     ]
    },
    {
     "name": "stderr",
     "output_type": "stream",
     "text": [
      "Training:  72%|███████▏  | 361/500 [00:48<00:18,  7.43it/s]"
     ]
    },
    {
     "name": "stdout",
     "output_type": "stream",
     "text": [
      "Ep 360/500 | Return: -61.0 | 50-ep avg: -63.4 | Eps: 0.747\n"
     ]
    },
    {
     "name": "stderr",
     "output_type": "stream",
     "text": [
      "Training:  74%|███████▍  | 370/500 [00:50<00:18,  7.01it/s]"
     ]
    },
    {
     "name": "stdout",
     "output_type": "stream",
     "text": [
      "Ep 370/500 | Return: -66.0 | 50-ep avg: -63.5 | Eps: 0.740\n"
     ]
    },
    {
     "name": "stderr",
     "output_type": "stream",
     "text": [
      "Training:  76%|███████▌  | 381/500 [00:52<00:24,  4.86it/s]"
     ]
    },
    {
     "name": "stdout",
     "output_type": "stream",
     "text": [
      "Ep 380/500 | Return: -63.0 | 50-ep avg: -63.2 | Eps: 0.732\n"
     ]
    },
    {
     "name": "stderr",
     "output_type": "stream",
     "text": [
      "Training:  78%|███████▊  | 390/500 [00:54<00:25,  4.30it/s]"
     ]
    },
    {
     "name": "stdout",
     "output_type": "stream",
     "text": [
      "Ep 390/500 | Return: -54.0 | 50-ep avg: -62.3 | Eps: 0.725\n"
     ]
    },
    {
     "name": "stderr",
     "output_type": "stream",
     "text": [
      "Training:  80%|████████  | 400/500 [00:57<00:34,  2.94it/s]"
     ]
    },
    {
     "name": "stdout",
     "output_type": "stream",
     "text": [
      "Ep 400/500 | Return: -63.0 | 50-ep avg: -61.8 | Eps: 0.717\n"
     ]
    },
    {
     "name": "stderr",
     "output_type": "stream",
     "text": [
      "Training:  82%|████████▏ | 410/500 [01:01<00:34,  2.58it/s]"
     ]
    },
    {
     "name": "stdout",
     "output_type": "stream",
     "text": [
      "Ep 410/500 | Return: -66.0 | 50-ep avg: -61.8 | Eps: 0.710\n"
     ]
    },
    {
     "name": "stderr",
     "output_type": "stream",
     "text": [
      "Training:  84%|████████▍ | 420/500 [01:05<00:31,  2.55it/s]"
     ]
    },
    {
     "name": "stdout",
     "output_type": "stream",
     "text": [
      "Ep 420/500 | Return: -65.0 | 50-ep avg: -61.6 | Eps: 0.702\n"
     ]
    },
    {
     "name": "stderr",
     "output_type": "stream",
     "text": [
      "Training:  86%|████████▌ | 430/500 [01:09<00:26,  2.63it/s]"
     ]
    },
    {
     "name": "stdout",
     "output_type": "stream",
     "text": [
      "Ep 430/500 | Return: -64.0 | 50-ep avg: -61.7 | Eps: 0.695\n"
     ]
    },
    {
     "name": "stderr",
     "output_type": "stream",
     "text": [
      "Training:  88%|████████▊ | 440/500 [01:13<00:23,  2.57it/s]"
     ]
    },
    {
     "name": "stdout",
     "output_type": "stream",
     "text": [
      "Ep 440/500 | Return: -59.0 | 50-ep avg: -62.3 | Eps: 0.688\n"
     ]
    },
    {
     "name": "stderr",
     "output_type": "stream",
     "text": [
      "Training:  90%|█████████ | 450/500 [01:17<00:19,  2.54it/s]"
     ]
    },
    {
     "name": "stdout",
     "output_type": "stream",
     "text": [
      "Ep 450/500 | Return: -64.0 | 50-ep avg: -62.4 | Eps: 0.680\n"
     ]
    },
    {
     "name": "stderr",
     "output_type": "stream",
     "text": [
      "Training:  92%|█████████▏| 460/500 [01:21<00:15,  2.53it/s]"
     ]
    },
    {
     "name": "stdout",
     "output_type": "stream",
     "text": [
      "Ep 460/500 | Return: -63.0 | 50-ep avg: -62.4 | Eps: 0.673\n"
     ]
    },
    {
     "name": "stderr",
     "output_type": "stream",
     "text": [
      "Training:  94%|█████████▍| 470/500 [01:25<00:12,  2.44it/s]"
     ]
    },
    {
     "name": "stdout",
     "output_type": "stream",
     "text": [
      "Ep 470/500 | Return: -65.0 | 50-ep avg: -62.6 | Eps: 0.666\n"
     ]
    },
    {
     "name": "stderr",
     "output_type": "stream",
     "text": [
      "Training:  96%|█████████▌| 480/500 [01:29<00:08,  2.38it/s]"
     ]
    },
    {
     "name": "stdout",
     "output_type": "stream",
     "text": [
      "Ep 480/500 | Return: -56.0 | 50-ep avg: -62.0 | Eps: 0.658\n"
     ]
    },
    {
     "name": "stderr",
     "output_type": "stream",
     "text": [
      "Training:  98%|█████████▊| 490/500 [01:33<00:04,  2.35it/s]"
     ]
    },
    {
     "name": "stdout",
     "output_type": "stream",
     "text": [
      "Ep 490/500 | Return: -62.0 | 50-ep avg: -61.7 | Eps: 0.651\n"
     ]
    },
    {
     "name": "stderr",
     "output_type": "stream",
     "text": [
      "Training: 100%|██████████| 500/500 [01:38<00:00,  5.10it/s]"
     ]
    },
    {
     "name": "stdout",
     "output_type": "stream",
     "text": [
      "Ep 500/500 | Return: -60.0 | 50-ep avg: -61.3 | Eps: 0.643\n",
      "Training finished.\n"
     ]
    },
    {
     "name": "stderr",
     "output_type": "stream",
     "text": [
      "\n"
     ]
    }
   ],
   "source": [
    "num_episodes = 500  \n",
    "max_steps_per_ep = 10_000\n",
    "\n",
    "moving_avg_window = 50\n",
    "ep_returns = []\n",
    "losses = []\n",
    "\n",
    "for ep in trange(num_episodes, desc=\"Training\"):\n",
    "\tstate = env.reset()\n",
    "\tep_return = 0.0\n",
    "\n",
    "\tfor t in range(max_steps_per_ep):\n",
    "\t\taction = agent.select_action(state)\n",
    "\t\tnext_state, reward, done, info = env.step(action)\n",
    "\n",
    "\t\tagent.store(state, action, reward, next_state, done)\n",
    "\t\tloss = agent.train_step()\n",
    "\t\tif loss is not None:\n",
    "\t\t\tlosses.append(loss)\n",
    "\n",
    "\t\tep_return += reward\n",
    "\t\tstate = next_state\n",
    "\t\tif done:\n",
    "\t\t\tbreak\n",
    "\n",
    "\tep_returns.append(ep_return)\n",
    "\n",
    "\t# Display simple stats every few episodes\n",
    "\tif (ep + 1) % 10 == 0:\n",
    "\t\trecent = ep_returns[-moving_avg_window:]\n",
    "\t\tmavg = np.mean(recent) if recent else 0.0\n",
    "\t\tprint(f\"Ep {ep+1}/{num_episodes} | Return: {ep_return:.1f} | 50-ep avg: {mavg:.1f} | Eps: {agent.epsilon:.3f}\")\n",
    "\n",
    "print(\"Training finished.\")"
   ]
  },
  {
   "cell_type": "code",
   "execution_count": 5,
   "id": "f5c1d504",
   "metadata": {},
   "outputs": [
    {
     "name": "stdout",
     "output_type": "stream",
     "text": [
      "Saved: agent/flappy_dqn.pth\n"
     ]
    }
   ],
   "source": [
    "save_path = \"agent/flappy_dqn.pth\"\n",
    "os.makedirs(os.path.dirname(save_path), exist_ok=True)\n",
    "agent.save(save_path)\n",
    "print(\"Saved:\", save_path)"
   ]
  },
  {
   "cell_type": "code",
   "execution_count": 6,
   "id": "cd5a876b",
   "metadata": {},
   "outputs": [
    {
     "name": "stdout",
     "output_type": "stream",
     "text": [
      "Eval episode reward: -72.0\n"
     ]
    }
   ],
   "source": [
    "\n",
    "env.close()\n",
    "state = env.reset()\n",
    "\n",
    "total_reward = 0.0\n",
    "for _ in range(5000):\n",
    "\t# Greedy action for evaluation (no epsilon)\n",
    "\twith torch.no_grad():\n",
    "\t\tstate_t = torch.from_numpy(state).float().unsqueeze(0).to(agent.cfg.device)\n",
    "\t\tq_vals = agent.q_net(state_t)\n",
    "\t\taction = int(torch.argmax(q_vals, dim=1).item())\n",
    "\n",
    "\tnext_state, reward, done, info = env.step(action)\n",
    "\tenv.render(fps=60)\n",
    "\ttotal_reward += reward\n",
    "\tstate = next_state\n",
    "\tif done:\n",
    "\t\tbreak\n",
    "\n",
    "print(\"Eval episode reward:\", total_reward)\n",
    "env.close()"
   ]
  }
 ],
 "metadata": {
  "kernelspec": {
   "display_name": "venv",
   "language": "python",
   "name": "python3"
  },
  "language_info": {
   "codemirror_mode": {
    "name": "ipython",
    "version": 3
   },
   "file_extension": ".py",
   "mimetype": "text/x-python",
   "name": "python",
   "nbconvert_exporter": "python",
   "pygments_lexer": "ipython3",
   "version": "3.12.6"
  }
 },
 "nbformat": 4,
 "nbformat_minor": 5
}
