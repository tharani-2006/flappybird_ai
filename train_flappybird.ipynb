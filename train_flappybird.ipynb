{
 "cells": [
  {
   "cell_type": "code",
   "execution_count": 3,
   "id": "79ed5583",
   "metadata": {},
   "outputs": [
    {
     "name": "stdout",
     "output_type": "stream",
     "text": [
      "The autoreload extension is already loaded. To reload it, use:\n",
      "  %reload_ext autoreload\n"
     ]
    }
   ],
   "source": [
    "%load_ext autoreload\n",
    "%autoreload 2\n",
    "\n",
    "import os\n",
    "import time\n",
    "import numpy as np\n",
    "import torch\n",
    "from tqdm import trange\n",
    "\n",
    "from game.flappy_bird import FlappyBirdEnv\n",
    "from agent.dqn_agent import DQNAgent, DQNConfig\n",
    "CKPT_PATH = \"agent/flappy_dqn_live.pth\""
   ]
  },
  {
   "cell_type": "code",
   "execution_count": 7,
   "id": "a7a3d57a",
   "metadata": {},
   "outputs": [
    {
     "name": "stdout",
     "output_type": "stream",
     "text": [
      "Using device: cpu\n"
     ]
    }
   ],
   "source": [
    "\n",
    "env = FlappyBirdEnv(pipe_gap=160, pipe_speed=2.0, seed=42)\n",
    "state_dim = 5\n",
    "action_dim = 2\n",
    "\n",
    "cfg = DQNConfig(\n",
    "    start_learning_after=1000,  # earlier learning\n",
    "    eps_decay_steps=20000,    \n",
    "\tstate_dim=state_dim,\n",
    "\taction_dim=action_dim,\n",
    "\tgamma=0.99,\n",
    "\tlr=1e-3,\n",
    "\tbatch_size=64,\n",
    "\treplay_size=50_000,\n",
    "\t\n",
    "\ttarget_update_freq=1_000,\n",
    "\teps_start=1.0,\n",
    "\teps_end=0.05,\n",
    "\t\n",
    "\tgradient_clip_norm=5.0,\n",
    ")\n",
    "\n",
    "agent = DQNAgent(cfg)\n",
    "print(\"Using device:\", agent.cfg.device)"
   ]
  },
  {
   "cell_type": "code",
   "execution_count": 8,
   "id": "285af542",
   "metadata": {},
   "outputs": [
    {
     "name": "stdout",
     "output_type": "stream",
     "text": [
      "Replay warm-started with heuristic + random steps.\n"
     ]
    }
   ],
   "source": [
    "import numpy as np\n",
    "\n",
    "def simple_heuristic_action(state):\n",
    "    bird_y, bird_vel, next_x, top, bottom = state\n",
    "    target_y = (top + bottom) / 2.0\n",
    "    return 1 if bird_y > target_y + 0.03 else 0\n",
    "\n",
    "warm_steps = 5000\n",
    "s = env.reset()\n",
    "for _ in range(warm_steps):\n",
    "    if np.random.rand() < 0.2:\n",
    "        a = np.random.randint(2)\n",
    "    else:\n",
    "        a = simple_heuristic_action(s)\n",
    "    ns, r, d, info = env.step(a)\n",
    "    agent.store(s, a, r, ns, d)\n",
    "    s = ns if not d else env.reset()\n",
    "print(\"Replay warm-started with heuristic + random steps.\")"
   ]
  },
  {
   "cell_type": "code",
   "execution_count": 9,
   "id": "6451b62c",
   "metadata": {},
   "outputs": [
    {
     "name": "stderr",
     "output_type": "stream",
     "text": [
      "Training:   2%|▏         | 11/500 [00:01<01:10,  6.98it/s]"
     ]
    },
    {
     "name": "stdout",
     "output_type": "stream",
     "text": [
      "Ep 10/500 | Return: -62.0 | 50-ep avg: -63.7 | Eps: 0.982\n"
     ]
    },
    {
     "name": "stderr",
     "output_type": "stream",
     "text": [
      "Training:   4%|▍         | 21/500 [00:03<01:06,  7.25it/s]"
     ]
    },
    {
     "name": "stdout",
     "output_type": "stream",
     "text": [
      "Ep 20/500 | Return: -65.0 | 50-ep avg: -63.1 | Eps: 0.964\n"
     ]
    },
    {
     "name": "stderr",
     "output_type": "stream",
     "text": [
      "Training:   6%|▌         | 31/500 [00:04<01:01,  7.66it/s]"
     ]
    },
    {
     "name": "stdout",
     "output_type": "stream",
     "text": [
      "Ep 30/500 | Return: -66.0 | 50-ep avg: -63.6 | Eps: 0.947\n"
     ]
    },
    {
     "name": "stderr",
     "output_type": "stream",
     "text": [
      "Training:   8%|▊         | 41/500 [00:05<00:57,  7.98it/s]"
     ]
    },
    {
     "name": "stdout",
     "output_type": "stream",
     "text": [
      "Ep 40/500 | Return: -65.0 | 50-ep avg: -63.9 | Eps: 0.929\n"
     ]
    },
    {
     "name": "stderr",
     "output_type": "stream",
     "text": [
      "Training:  10%|█         | 50/500 [00:07<01:21,  5.50it/s]"
     ]
    },
    {
     "name": "stdout",
     "output_type": "stream",
     "text": [
      "Ep 50/500 | Return: -65.0 | 50-ep avg: -63.9 | Eps: 0.912\n"
     ]
    },
    {
     "name": "stderr",
     "output_type": "stream",
     "text": [
      "Training:  12%|█▏        | 61/500 [00:09<00:56,  7.73it/s]"
     ]
    },
    {
     "name": "stdout",
     "output_type": "stream",
     "text": [
      "Ep 60/500 | Return: -65.0 | 50-ep avg: -64.2 | Eps: 0.895\n"
     ]
    },
    {
     "name": "stderr",
     "output_type": "stream",
     "text": [
      "Training:  14%|█▍        | 71/500 [00:10<01:13,  5.81it/s]"
     ]
    },
    {
     "name": "stdout",
     "output_type": "stream",
     "text": [
      "Ep 70/500 | Return: -62.0 | 50-ep avg: -64.7 | Eps: 0.878\n"
     ]
    },
    {
     "name": "stderr",
     "output_type": "stream",
     "text": [
      "Training:  16%|█▌        | 81/500 [00:12<00:52,  7.91it/s]"
     ]
    },
    {
     "name": "stdout",
     "output_type": "stream",
     "text": [
      "Ep 80/500 | Return: -66.0 | 50-ep avg: -64.8 | Eps: 0.861\n"
     ]
    },
    {
     "name": "stderr",
     "output_type": "stream",
     "text": [
      "Training:  18%|█▊        | 92/500 [00:13<00:46,  8.69it/s]"
     ]
    },
    {
     "name": "stdout",
     "output_type": "stream",
     "text": [
      "Ep 90/500 | Return: -66.0 | 50-ep avg: -64.6 | Eps: 0.843\n"
     ]
    },
    {
     "name": "stderr",
     "output_type": "stream",
     "text": [
      "Training:  20%|██        | 101/500 [00:14<00:45,  8.78it/s]"
     ]
    },
    {
     "name": "stdout",
     "output_type": "stream",
     "text": [
      "Ep 100/500 | Return: -62.0 | 50-ep avg: -64.8 | Eps: 0.826\n"
     ]
    },
    {
     "name": "stderr",
     "output_type": "stream",
     "text": [
      "Training:  22%|██▏       | 111/500 [00:16<00:46,  8.42it/s]"
     ]
    },
    {
     "name": "stdout",
     "output_type": "stream",
     "text": [
      "Ep 110/500 | Return: -64.0 | 50-ep avg: -64.5 | Eps: 0.808\n"
     ]
    },
    {
     "name": "stderr",
     "output_type": "stream",
     "text": [
      "Training:  24%|██▍       | 120/500 [00:17<00:38,  9.90it/s]"
     ]
    },
    {
     "name": "stdout",
     "output_type": "stream",
     "text": [
      "Ep 120/500 | Return: -60.0 | 50-ep avg: -64.0 | Eps: 0.790\n"
     ]
    },
    {
     "name": "stderr",
     "output_type": "stream",
     "text": [
      "Training:  26%|██▌       | 131/500 [00:18<00:39,  9.43it/s]"
     ]
    },
    {
     "name": "stdout",
     "output_type": "stream",
     "text": [
      "Ep 130/500 | Return: -66.0 | 50-ep avg: -63.8 | Eps: 0.772\n"
     ]
    },
    {
     "name": "stderr",
     "output_type": "stream",
     "text": [
      "Training:  28%|██▊       | 141/500 [00:19<00:42,  8.40it/s]"
     ]
    },
    {
     "name": "stdout",
     "output_type": "stream",
     "text": [
      "Ep 140/500 | Return: -62.0 | 50-ep avg: -63.6 | Eps: 0.754\n"
     ]
    },
    {
     "name": "stderr",
     "output_type": "stream",
     "text": [
      "Training:  30%|███       | 151/500 [00:20<00:39,  8.77it/s]"
     ]
    },
    {
     "name": "stdout",
     "output_type": "stream",
     "text": [
      "Ep 150/500 | Return: -63.0 | 50-ep avg: -63.3 | Eps: 0.736\n"
     ]
    },
    {
     "name": "stderr",
     "output_type": "stream",
     "text": [
      "Training:  32%|███▏      | 161/500 [00:21<00:37,  9.06it/s]"
     ]
    },
    {
     "name": "stdout",
     "output_type": "stream",
     "text": [
      "Ep 160/500 | Return: -61.0 | 50-ep avg: -63.2 | Eps: 0.718\n"
     ]
    },
    {
     "name": "stderr",
     "output_type": "stream",
     "text": [
      "Training:  34%|███▍      | 171/500 [00:22<00:33,  9.89it/s]"
     ]
    },
    {
     "name": "stdout",
     "output_type": "stream",
     "text": [
      "Ep 170/500 | Return: -64.0 | 50-ep avg: -63.2 | Eps: 0.700\n"
     ]
    },
    {
     "name": "stderr",
     "output_type": "stream",
     "text": [
      "Training:  36%|███▌      | 181/500 [00:24<00:48,  6.57it/s]"
     ]
    },
    {
     "name": "stdout",
     "output_type": "stream",
     "text": [
      "Ep 180/500 | Return: -66.0 | 50-ep avg: -62.9 | Eps: 0.682\n"
     ]
    },
    {
     "name": "stderr",
     "output_type": "stream",
     "text": [
      "Training:  38%|███▊      | 191/500 [00:25<00:35,  8.66it/s]"
     ]
    },
    {
     "name": "stdout",
     "output_type": "stream",
     "text": [
      "Ep 190/500 | Return: -66.0 | 50-ep avg: -62.1 | Eps: 0.662\n"
     ]
    },
    {
     "name": "stderr",
     "output_type": "stream",
     "text": [
      "Training:  40%|████      | 201/500 [00:27<00:43,  6.90it/s]"
     ]
    },
    {
     "name": "stdout",
     "output_type": "stream",
     "text": [
      "Ep 200/500 | Return: -64.0 | 50-ep avg: -61.1 | Eps: 0.642\n"
     ]
    },
    {
     "name": "stderr",
     "output_type": "stream",
     "text": [
      "Training:  42%|████▏     | 211/500 [00:28<00:34,  8.31it/s]"
     ]
    },
    {
     "name": "stdout",
     "output_type": "stream",
     "text": [
      "Ep 210/500 | Return: -61.0 | 50-ep avg: -60.7 | Eps: 0.622\n"
     ]
    },
    {
     "name": "stderr",
     "output_type": "stream",
     "text": [
      "Training:  44%|████▍     | 221/500 [00:29<00:35,  7.79it/s]"
     ]
    },
    {
     "name": "stdout",
     "output_type": "stream",
     "text": [
      "Ep 220/500 | Return: -61.0 | 50-ep avg: -60.6 | Eps: 0.604\n"
     ]
    },
    {
     "name": "stderr",
     "output_type": "stream",
     "text": [
      "Training:  46%|████▌     | 231/500 [00:31<00:42,  6.35it/s]"
     ]
    },
    {
     "name": "stdout",
     "output_type": "stream",
     "text": [
      "Ep 230/500 | Return: -66.0 | 50-ep avg: -60.4 | Eps: 0.586\n"
     ]
    },
    {
     "name": "stderr",
     "output_type": "stream",
     "text": [
      "Training:  48%|████▊     | 241/500 [00:33<00:46,  5.56it/s]"
     ]
    },
    {
     "name": "stdout",
     "output_type": "stream",
     "text": [
      "Ep 240/500 | Return: -38.0 | 50-ep avg: -60.6 | Eps: 0.566\n"
     ]
    },
    {
     "name": "stderr",
     "output_type": "stream",
     "text": [
      "Training:  50%|█████     | 251/500 [00:34<00:40,  6.14it/s]"
     ]
    },
    {
     "name": "stdout",
     "output_type": "stream",
     "text": [
      "Ep 250/500 | Return: -57.0 | 50-ep avg: -61.2 | Eps: 0.547\n"
     ]
    },
    {
     "name": "stderr",
     "output_type": "stream",
     "text": [
      "Training:  52%|█████▏    | 260/500 [00:36<00:35,  6.70it/s]"
     ]
    },
    {
     "name": "stdout",
     "output_type": "stream",
     "text": [
      "Ep 260/500 | Return: -59.0 | 50-ep avg: -61.5 | Eps: 0.529\n"
     ]
    },
    {
     "name": "stderr",
     "output_type": "stream",
     "text": [
      "Training:  54%|█████▍    | 271/500 [00:38<00:35,  6.51it/s]"
     ]
    },
    {
     "name": "stdout",
     "output_type": "stream",
     "text": [
      "Ep 270/500 | Return: -62.0 | 50-ep avg: -60.9 | Eps: 0.509\n"
     ]
    },
    {
     "name": "stderr",
     "output_type": "stream",
     "text": [
      "Training:  56%|█████▌    | 281/500 [00:39<00:36,  6.08it/s]"
     ]
    },
    {
     "name": "stdout",
     "output_type": "stream",
     "text": [
      "Ep 280/500 | Return: -64.0 | 50-ep avg: -60.5 | Eps: 0.489\n"
     ]
    },
    {
     "name": "stderr",
     "output_type": "stream",
     "text": [
      "Training:  58%|█████▊    | 291/500 [00:41<00:29,  7.13it/s]"
     ]
    },
    {
     "name": "stdout",
     "output_type": "stream",
     "text": [
      "Ep 290/500 | Return: -63.0 | 50-ep avg: -60.8 | Eps: 0.470\n"
     ]
    },
    {
     "name": "stderr",
     "output_type": "stream",
     "text": [
      "Training:  60%|██████    | 301/500 [00:42<00:29,  6.83it/s]"
     ]
    },
    {
     "name": "stdout",
     "output_type": "stream",
     "text": [
      "Ep 300/500 | Return: -64.0 | 50-ep avg: -60.3 | Eps: 0.450\n"
     ]
    },
    {
     "name": "stderr",
     "output_type": "stream",
     "text": [
      "Training:  62%|██████▏   | 311/500 [00:44<00:34,  5.51it/s]"
     ]
    },
    {
     "name": "stdout",
     "output_type": "stream",
     "text": [
      "Ep 310/500 | Return: -60.0 | 50-ep avg: -60.0 | Eps: 0.431\n"
     ]
    },
    {
     "name": "stderr",
     "output_type": "stream",
     "text": [
      "Training:  64%|██████▍   | 321/500 [00:46<00:34,  5.26it/s]"
     ]
    },
    {
     "name": "stdout",
     "output_type": "stream",
     "text": [
      "Ep 320/500 | Return: -42.0 | 50-ep avg: -59.1 | Eps: 0.409\n"
     ]
    },
    {
     "name": "stderr",
     "output_type": "stream",
     "text": [
      "Training:  66%|██████▌   | 331/500 [00:48<00:26,  6.27it/s]"
     ]
    },
    {
     "name": "stdout",
     "output_type": "stream",
     "text": [
      "Ep 330/500 | Return: -63.0 | 50-ep avg: -58.0 | Eps: 0.387\n"
     ]
    },
    {
     "name": "stderr",
     "output_type": "stream",
     "text": [
      "Training:  68%|██████▊   | 341/500 [00:49<00:29,  5.33it/s]"
     ]
    },
    {
     "name": "stdout",
     "output_type": "stream",
     "text": [
      "Ep 340/500 | Return: -54.0 | 50-ep avg: -57.1 | Eps: 0.366\n"
     ]
    },
    {
     "name": "stderr",
     "output_type": "stream",
     "text": [
      "Training:  70%|███████   | 351/500 [00:51<00:29,  5.04it/s]"
     ]
    },
    {
     "name": "stdout",
     "output_type": "stream",
     "text": [
      "Ep 350/500 | Return: -46.0 | 50-ep avg: -55.7 | Eps: 0.343\n"
     ]
    },
    {
     "name": "stderr",
     "output_type": "stream",
     "text": [
      "Training:  72%|███████▏  | 360/500 [00:53<00:23,  6.04it/s]"
     ]
    },
    {
     "name": "stdout",
     "output_type": "stream",
     "text": [
      "Ep 360/500 | Return: -60.0 | 50-ep avg: -55.1 | Eps: 0.322\n"
     ]
    },
    {
     "name": "stderr",
     "output_type": "stream",
     "text": [
      "Training:  74%|███████▍  | 370/500 [00:55<00:25,  5.17it/s]"
     ]
    },
    {
     "name": "stdout",
     "output_type": "stream",
     "text": [
      "Ep 370/500 | Return: -56.0 | 50-ep avg: -52.7 | Eps: 0.294\n"
     ]
    },
    {
     "name": "stderr",
     "output_type": "stream",
     "text": [
      "Training:  76%|███████▌  | 381/500 [00:57<00:20,  5.68it/s]"
     ]
    },
    {
     "name": "stdout",
     "output_type": "stream",
     "text": [
      "Ep 380/500 | Return: -28.0 | 50-ep avg: -51.5 | Eps: 0.270\n"
     ]
    },
    {
     "name": "stderr",
     "output_type": "stream",
     "text": [
      "Training:  78%|███████▊  | 390/500 [01:00<00:35,  3.06it/s]"
     ]
    },
    {
     "name": "stdout",
     "output_type": "stream",
     "text": [
      "Ep 390/500 | Return: -28.0 | 50-ep avg: -46.5 | Eps: 0.237\n"
     ]
    },
    {
     "name": "stderr",
     "output_type": "stream",
     "text": [
      "Training:  80%|████████  | 401/500 [01:03<00:22,  4.32it/s]"
     ]
    },
    {
     "name": "stdout",
     "output_type": "stream",
     "text": [
      "Ep 400/500 | Return: -53.0 | 50-ep avg: -43.6 | Eps: 0.207\n"
     ]
    },
    {
     "name": "stderr",
     "output_type": "stream",
     "text": [
      "Training:  82%|████████▏ | 411/500 [01:05<00:22,  3.90it/s]"
     ]
    },
    {
     "name": "stdout",
     "output_type": "stream",
     "text": [
      "Ep 410/500 | Return: 16.0 | 50-ep avg: -38.4 | Eps: 0.174\n"
     ]
    },
    {
     "name": "stderr",
     "output_type": "stream",
     "text": [
      "Training:  84%|████████▍ | 420/500 [01:08<00:22,  3.53it/s]"
     ]
    },
    {
     "name": "stdout",
     "output_type": "stream",
     "text": [
      "Ep 420/500 | Return: 7.0 | 50-ep avg: -35.8 | Eps: 0.140\n"
     ]
    },
    {
     "name": "stderr",
     "output_type": "stream",
     "text": [
      "Training:  86%|████████▌ | 431/500 [01:11<00:14,  4.74it/s]"
     ]
    },
    {
     "name": "stdout",
     "output_type": "stream",
     "text": [
      "Ep 430/500 | Return: -72.0 | 50-ep avg: -30.0 | Eps: 0.101\n"
     ]
    },
    {
     "name": "stderr",
     "output_type": "stream",
     "text": [
      "Training:  88%|████████▊ | 441/500 [01:14<00:14,  3.99it/s]"
     ]
    },
    {
     "name": "stdout",
     "output_type": "stream",
     "text": [
      "Ep 440/500 | Return: -72.0 | 50-ep avg: -29.5 | Eps: 0.067\n"
     ]
    },
    {
     "name": "stderr",
     "output_type": "stream",
     "text": [
      "Training:  90%|█████████ | 450/500 [01:20<00:28,  1.77it/s]"
     ]
    },
    {
     "name": "stdout",
     "output_type": "stream",
     "text": [
      "Ep 450/500 | Return: 56.0 | 50-ep avg: -15.7 | Eps: 0.050\n"
     ]
    },
    {
     "name": "stderr",
     "output_type": "stream",
     "text": [
      "Training:  92%|█████████▏| 460/500 [01:27<00:25,  1.54it/s]"
     ]
    },
    {
     "name": "stdout",
     "output_type": "stream",
     "text": [
      "Ep 460/500 | Return: 43.0 | 50-ep avg: -1.6 | Eps: 0.050\n"
     ]
    },
    {
     "name": "stderr",
     "output_type": "stream",
     "text": [
      "Training:  94%|█████████▍| 470/500 [01:33<00:20,  1.45it/s]"
     ]
    },
    {
     "name": "stdout",
     "output_type": "stream",
     "text": [
      "Ep 470/500 | Return: 43.0 | 50-ep avg: 12.8 | Eps: 0.050\n"
     ]
    },
    {
     "name": "stderr",
     "output_type": "stream",
     "text": [
      "Training:  96%|█████████▌| 480/500 [01:40<00:14,  1.36it/s]"
     ]
    },
    {
     "name": "stdout",
     "output_type": "stream",
     "text": [
      "Ep 480/500 | Return: 43.0 | 50-ep avg: 24.5 | Eps: 0.050\n"
     ]
    },
    {
     "name": "stderr",
     "output_type": "stream",
     "text": [
      "Training:  98%|█████████▊| 490/500 [01:47<00:06,  1.49it/s]"
     ]
    },
    {
     "name": "stdout",
     "output_type": "stream",
     "text": [
      "Ep 490/500 | Return: 43.0 | 50-ep avg: 35.6 | Eps: 0.050\n"
     ]
    },
    {
     "name": "stderr",
     "output_type": "stream",
     "text": [
      "Training: 100%|██████████| 500/500 [01:52<00:00,  4.43it/s]"
     ]
    },
    {
     "name": "stdout",
     "output_type": "stream",
     "text": [
      "Ep 500/500 | Return: -20.0 | 50-ep avg: 34.2 | Eps: 0.050\n",
      "Training finished. Saved: agent/flappy_dqn_live.pth\n"
     ]
    },
    {
     "name": "stderr",
     "output_type": "stream",
     "text": [
      "\n"
     ]
    }
   ],
   "source": [
    "num_episodes = 500\n",
    "max_steps_per_ep = 10_000\n",
    "\n",
    "moving_avg_window = 50\n",
    "ep_returns = []\n",
    "losses = []\n",
    "\n",
    "for ep in trange(num_episodes, desc=\"Training\"):\n",
    "\tstate = env.reset()\n",
    "\tep_return = 0.0\n",
    "\n",
    "\tfor t in range(max_steps_per_ep):\n",
    "\t\taction = agent.select_action(state)\n",
    "\t\tnext_state, reward, done, info = env.step(action)\n",
    "\n",
    "\t\tagent.store(state, action, reward, next_state, done)\n",
    "\t\tloss = agent.train_step()\n",
    "\t\tif loss is not None:\n",
    "\t\t\tlosses.append(loss)\n",
    "\n",
    "\t\t# autosave every 1k steps so a live viewer can reload\n",
    "\t\tif agent.total_steps % 1000 == 0:\n",
    "\t\t\tagent.save(CKPT_PATH)\n",
    "\n",
    "\t\tep_return += reward\n",
    "\t\tstate = next_state\n",
    "\t\tif done:\n",
    "\t\t\tbreak\n",
    "\n",
    "\tep_returns.append(ep_return)\n",
    "\tif (ep + 1) % 10 == 0:\n",
    "\t\trecent = ep_returns[-moving_avg_window:]\n",
    "\t\tmavg = np.mean(recent) if recent else 0.0\n",
    "\t\tprint(f\"Ep {ep+1}/{num_episodes} | Return: {ep_return:.1f} | 50-ep avg: {mavg:.1f} | Eps: {agent.epsilon:.3f}\")\n",
    "\n",
    "# final save\n",
    "agent.save(CKPT_PATH)\n",
    "print(\"Training finished. Saved:\", CKPT_PATH)"
   ]
  },
  {
   "cell_type": "code",
   "execution_count": 10,
   "id": "f5c1d504",
   "metadata": {},
   "outputs": [
    {
     "name": "stdout",
     "output_type": "stream",
     "text": [
      "Saved: agent/flappy_dqn.pth\n"
     ]
    }
   ],
   "source": [
    "save_path = \"agent/flappy_dqn.pth\"\n",
    "os.makedirs(os.path.dirname(save_path), exist_ok=True)\n",
    "agent.save(save_path)\n",
    "print(\"Saved:\", save_path)"
   ]
  },
  {
   "cell_type": "code",
   "execution_count": 11,
   "id": "cd5a876b",
   "metadata": {},
   "outputs": [
    {
     "name": "stdout",
     "output_type": "stream",
     "text": [
      "Eval episode reward: 74.0\n"
     ]
    }
   ],
   "source": [
    "\n",
    "env.close()\n",
    "state = env.reset()\n",
    "\n",
    "total_reward = 0.0\n",
    "for _ in range(5000):\n",
    "\t# Greedy action for evaluation (no epsilon)\n",
    "\twith torch.no_grad():\n",
    "\t\tstate_t = torch.from_numpy(state).float().unsqueeze(0).to(agent.cfg.device)\n",
    "\t\tq_vals = agent.q_net(state_t)\n",
    "\t\taction = int(torch.argmax(q_vals, dim=1).item())\n",
    "\n",
    "\tnext_state, reward, done, info = env.step(action)\n",
    "\tenv.render(fps=60)\n",
    "\ttotal_reward += reward\n",
    "\tstate = next_state\n",
    "\tif done:\n",
    "\t\tbreak\n",
    "\n",
    "print(\"Eval episode reward:\", total_reward)\n",
    "env.close()"
   ]
  },
  {
   "cell_type": "code",
   "execution_count": null,
   "id": "cb94ab79-4409-4566-a44d-01f347b477ad",
   "metadata": {},
   "outputs": [],
   "source": []
  }
 ],
 "metadata": {
  "kernelspec": {
   "display_name": "Python 3 (ipykernel)",
   "language": "python",
   "name": "python3"
  },
  "language_info": {
   "codemirror_mode": {
    "name": "ipython",
    "version": 3
   },
   "file_extension": ".py",
   "mimetype": "text/x-python",
   "name": "python",
   "nbconvert_exporter": "python",
   "pygments_lexer": "ipython3",
   "version": "3.12.6"
  }
 },
 "nbformat": 4,
 "nbformat_minor": 5
}
